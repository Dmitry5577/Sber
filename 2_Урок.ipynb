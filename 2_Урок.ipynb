{
  "nbformat": 4,
  "nbformat_minor": 0,
  "metadata": {
    "colab": {
      "name": "Занятие 2",
      "provenance": [],
      "collapsed_sections": [],
      "include_colab_link": true
    },
    "kernelspec": {
      "name": "python3",
      "display_name": "Python 3"
    },
    "language_info": {
      "name": "python"
    }
  },
  "cells": [
    {
      "cell_type": "markdown",
      "metadata": {
        "id": "view-in-github",
        "colab_type": "text"
      },
      "source": [
        "<a href=\"https://colab.research.google.com/github/Dmitry5577/Sber/blob/main/%D0%97%D0%B0%D0%BD%D1%8F%D1%82%D0%B8%D0%B5_2.ipynb\" target=\"_parent\"><img src=\"https://colab.research.google.com/assets/colab-badge.svg\" alt=\"Open In Colab\"/></a>"
      ]
    },
    {
      "cell_type": "markdown",
      "source": [
        "# Занятие 2"
      ],
      "metadata": {
        "id": "Sb3LBICx0Vb8"
      }
    },
    {
      "cell_type": "markdown",
      "metadata": {
        "id": "ZD8tMSHdkXYb"
      },
      "source": [
        "## Коллекции\n",
        "### Списки\n",
        "list — тип данных список/массив. Это специальный контейнер, чтобы хранить значения."
      ]
    },
    {
      "cell_type": "code",
      "metadata": {
        "id": "jQQuRraLkevT"
      },
      "source": [
        "# teacher"
      ],
      "execution_count": null,
      "outputs": []
    },
    {
      "cell_type": "code",
      "source": [],
      "metadata": {
        "id": "ubb2rGmrLbo9"
      },
      "execution_count": null,
      "outputs": []
    },
    {
      "cell_type": "code",
      "source": [],
      "metadata": {
        "id": "2fOWCsbALhqj"
      },
      "execution_count": null,
      "outputs": []
    },
    {
      "cell_type": "markdown",
      "source": [
        "Можно хранить произвольные объекты"
      ],
      "metadata": {
        "id": "sH0IAS_-9150"
      }
    },
    {
      "cell_type": "code",
      "metadata": {
        "id": "QNwciSW6jPb9"
      },
      "source": [
        "# teacher"
      ],
      "execution_count": null,
      "outputs": []
    },
    {
      "cell_type": "markdown",
      "metadata": {
        "id": "rDzgg9URknN-"
      },
      "source": [
        "Доступ к элементам осуществляется по индексу"
      ]
    },
    {
      "cell_type": "code",
      "metadata": {
        "id": "SvneDzYskpab"
      },
      "source": [
        "# индексация с 0\n",
        "# teacher"
      ],
      "execution_count": null,
      "outputs": []
    },
    {
      "cell_type": "code",
      "source": [],
      "metadata": {
        "id": "cQSTdA-vL2lf"
      },
      "execution_count": null,
      "outputs": []
    },
    {
      "cell_type": "markdown",
      "source": [
        "Доступна также индексация в обратном порядке"
      ],
      "metadata": {
        "id": "LgHM9U7A_vGa"
      }
    },
    {
      "cell_type": "code",
      "metadata": {
        "id": "OYuEIvYjj9Z0"
      },
      "source": [
        "# teacher"
      ],
      "execution_count": null,
      "outputs": []
    },
    {
      "cell_type": "code",
      "source": [],
      "metadata": {
        "id": "tkhwnc4UL-WR"
      },
      "execution_count": null,
      "outputs": []
    },
    {
      "cell_type": "markdown",
      "source": [
        "Чтобы получить значение индекса первого вхождения значения, можно воспользоваться методом .index()"
      ],
      "metadata": {
        "id": "kpOS8PF0ACM8"
      }
    },
    {
      "cell_type": "code",
      "source": [
        "# teacher"
      ],
      "metadata": {
        "id": "FiI4Azj6AJ3h"
      },
      "execution_count": null,
      "outputs": []
    },
    {
      "cell_type": "markdown",
      "source": [
        "По индексу мы также можем менять значение элементов"
      ],
      "metadata": {
        "id": "ViAfMF1yBcvv"
      }
    },
    {
      "cell_type": "code",
      "metadata": {
        "id": "rSZe27AnBcvv"
      },
      "source": [
        "# teacher"
      ],
      "execution_count": null,
      "outputs": []
    },
    {
      "cell_type": "markdown",
      "source": [
        "#### Задача 1\n",
        "В данном списке l = [1, 5, 3, 100] найдите значение 5 и замените его на значение 55"
      ],
      "metadata": {
        "id": "083an5X5AdgL"
      }
    },
    {
      "cell_type": "code",
      "source": [
        "my_list = [1, 5, 3, 100]\n",
        "# (дан произвольный список без повторяющихся элементов)\n",
        "# ваш код тут\n",
        "my_list[my_list.index(5)] = 55\n",
        "my_list"
      ],
      "metadata": {
        "id": "RyO_FChWApsY",
        "colab": {
          "base_uri": "https://localhost:8080/"
        },
        "outputId": "83459060-1aed-4e0a-eacd-ab560e434572"
      },
      "execution_count": null,
      "outputs": [
        {
          "output_type": "execute_result",
          "data": {
            "text/plain": [
              "[1, 55, 3, 100]"
            ]
          },
          "metadata": {},
          "execution_count": 46
        }
      ]
    },
    {
      "cell_type": "markdown",
      "metadata": {
        "id": "8nRUqQMKkr73"
      },
      "source": [
        "Можно использовать встроенную функцию len() для того, чтобы узнать кол-во элементов в списке."
      ]
    },
    {
      "cell_type": "code",
      "metadata": {
        "id": "_JeUSJudkw-F"
      },
      "source": [
        "len(l)"
      ],
      "execution_count": null,
      "outputs": []
    },
    {
      "cell_type": "markdown",
      "metadata": {
        "id": "SL9ddQ33kxwG"
      },
      "source": [
        "А добавлять значения можно с помощью метода append()"
      ]
    },
    {
      "cell_type": "code",
      "metadata": {
        "id": "lmMzCyaTk1M1"
      },
      "source": [
        "# teacher"
      ],
      "execution_count": null,
      "outputs": []
    },
    {
      "cell_type": "markdown",
      "source": [
        "Чтобы добавить элемент в определенное место, можно использовать метод .insert()"
      ],
      "metadata": {
        "id": "5vlVHefy_COO"
      }
    },
    {
      "cell_type": "code",
      "metadata": {
        "id": "VckWKqlAkl6R"
      },
      "source": [
        "# teacher"
      ],
      "execution_count": null,
      "outputs": []
    },
    {
      "cell_type": "markdown",
      "metadata": {
        "id": "FVfwLFTrk2Xb"
      },
      "source": [
        "Проверить есть ли значение в списке можно с помощью конструкции in"
      ]
    },
    {
      "cell_type": "code",
      "metadata": {
        "id": "dnn4XBDfk6Dp"
      },
      "source": [
        "# teacher"
      ],
      "execution_count": null,
      "outputs": []
    },
    {
      "cell_type": "code",
      "source": [
        "# ***\n",
        "# альтернативный метод добавляения\n",
        "# l += [13, ]\n",
        "# l\n",
        "\n",
        "# Почему лучше использовать .append?\n",
        "\n",
        "# id - обозначает уникальный номер объекта в python\n",
        "# если id поменялся, то был создан новый объект (был выделен новый участок памяти, новый адрес, произошла некая дополнительная работа)\n",
        "\n",
        "s1 = \"a\"\n",
        "s2 = \"b\"\n",
        "l2 = [1,2,3]\n",
        "print(f\"s1: {id(s1)}\")\n",
        "print(f\"s2: {id(s2)}\")\n",
        "print(f\"s1 + s2: {id(s1+s2)}\")\n",
        "l2 = [1,2,3]\n",
        "print(f\"l2: {id(l2)}\")\n",
        "l2.append(1)\n",
        "print(f\"l2.append(x): {id(l2)}\")\n",
        "l2 = [1,2,3]\n",
        "print(f\"l2: {id(l2)}\")\n",
        "print(f\"l2 + [1,]: {id(l2 + [1,])}\")\n"
      ],
      "metadata": {
        "id": "Hk_jDsyjU_0n",
        "colab": {
          "base_uri": "https://localhost:8080/"
        },
        "outputId": "56eeebab-bb52-4fac-928a-965782b230d5"
      },
      "execution_count": null,
      "outputs": [
        {
          "output_type": "stream",
          "name": "stdout",
          "text": [
            "s1: 140438088392880\n",
            "s2: 140438088217968\n",
            "s1 + s2: 140437545034736\n",
            "l2: 140437544614160\n",
            "l2.append(x): 140437544614160\n",
            "l2: 140437545077088\n",
            "l2 + [1,]: 140437678447984\n"
          ]
        }
      ]
    },
    {
      "cell_type": "code",
      "source": [
        "id(l)"
      ],
      "metadata": {
        "id": "Lrj-yjItUxUb"
      },
      "execution_count": null,
      "outputs": []
    },
    {
      "cell_type": "markdown",
      "source": [
        "#### Задача 2\n",
        "Примите на вход 3 пользовательских ввода (3 произвольных строки). Добавьте каждый ввод в список, если его еще нет в этом списке"
      ],
      "metadata": {
        "id": "wxWZrN2QCxTR"
      }
    },
    {
      "cell_type": "code",
      "source": [
        "# ваш код тут\n",
        "l = []\n",
        "l.append(input(\"Введите значение \"))\n",
        "a = input(\"Введите значение \")\n",
        "if not(a in l): l.append(a)\n",
        "a = input(\"Введите значение \")\n",
        "if not(a in l): l.append(a)\n",
        "l"
      ],
      "metadata": {
        "id": "1dG1pQYGDshL",
        "colab": {
          "base_uri": "https://localhost:8080/"
        },
        "outputId": "301326e6-fa53-40c1-f5cd-cbe575abf0a0"
      },
      "execution_count": null,
      "outputs": [
        {
          "name": "stdout",
          "output_type": "stream",
          "text": [
            "Введите значение 5\n",
            "Введите значение 8\n",
            "Введите значение h\n"
          ]
        },
        {
          "output_type": "execute_result",
          "data": {
            "text/plain": [
              "['5', '8', 'h']"
            ]
          },
          "metadata": {},
          "execution_count": 15
        }
      ]
    },
    {
      "cell_type": "markdown",
      "source": [
        "Для сортировки можно воспользовать методом .sort()"
      ],
      "metadata": {
        "id": "dTTav7XN_Yho"
      }
    },
    {
      "cell_type": "code",
      "source": [
        "# teacher"
      ],
      "metadata": {
        "id": "A3GFhmvJ_b1H"
      },
      "execution_count": null,
      "outputs": []
    },
    {
      "cell_type": "code",
      "source": [
        "my_list = [1, \"fds\", 99]\n",
        "my_list.sort() # будет ошибка, нельзя сравнивать строки с целыми числами\n",
        "my_list"
      ],
      "metadata": {
        "id": "kZkzNxMDZ66M",
        "colab": {
          "base_uri": "https://localhost:8080/",
          "height": 200
        },
        "outputId": "4e5409f3-dd3a-46b6-cc7f-ffdd3d98e066"
      },
      "execution_count": null,
      "outputs": [
        {
          "output_type": "error",
          "ename": "TypeError",
          "evalue": "ignored",
          "traceback": [
            "\u001b[0;31m---------------------------------------------------------------------------\u001b[0m",
            "\u001b[0;31mTypeError\u001b[0m                                 Traceback (most recent call last)",
            "\u001b[0;32m<ipython-input-1-f8cb434c2ce3>\u001b[0m in \u001b[0;36m<module>\u001b[0;34m\u001b[0m\n\u001b[1;32m      1\u001b[0m \u001b[0mmy_list\u001b[0m \u001b[0;34m=\u001b[0m \u001b[0;34m[\u001b[0m\u001b[0;36m1\u001b[0m\u001b[0;34m,\u001b[0m \u001b[0;34m\"fds\"\u001b[0m\u001b[0;34m,\u001b[0m \u001b[0;36m99\u001b[0m\u001b[0;34m]\u001b[0m\u001b[0;34m\u001b[0m\u001b[0;34m\u001b[0m\u001b[0m\n\u001b[0;32m----> 2\u001b[0;31m \u001b[0mmy_list\u001b[0m\u001b[0;34m.\u001b[0m\u001b[0msort\u001b[0m\u001b[0;34m(\u001b[0m\u001b[0;34m)\u001b[0m \u001b[0;31m# будет ошибка, нельзя сравнивать строки с целыми числами\u001b[0m\u001b[0;34m\u001b[0m\u001b[0;34m\u001b[0m\u001b[0m\n\u001b[0m\u001b[1;32m      3\u001b[0m \u001b[0mmy_list\u001b[0m\u001b[0;34m\u001b[0m\u001b[0;34m\u001b[0m\u001b[0m\n",
            "\u001b[0;31mTypeError\u001b[0m: '<' not supported between instances of 'str' and 'int'"
          ]
        }
      ]
    },
    {
      "cell_type": "code",
      "source": [
        "my_list = [1, True, 0]\n",
        "my_list.sort()\n",
        "my_list"
      ],
      "metadata": {
        "id": "xVLZJg1HaGat",
        "colab": {
          "base_uri": "https://localhost:8080/"
        },
        "outputId": "684f107d-0037-45f8-a4f5-ffca9523e4e4"
      },
      "execution_count": null,
      "outputs": [
        {
          "output_type": "execute_result",
          "data": {
            "text/plain": [
              "[0, 1, True]"
            ]
          },
          "metadata": {},
          "execution_count": 2
        }
      ]
    },
    {
      "cell_type": "code",
      "source": [
        "l = [\"123\", \"dsa\"]\n",
        "l.sort()\n",
        "l"
      ],
      "metadata": {
        "id": "iHThXw-Zavt3"
      },
      "execution_count": null,
      "outputs": []
    },
    {
      "cell_type": "markdown",
      "source": [
        "Сортировка в обратном порядке"
      ],
      "metadata": {
        "id": "6vc9Og_x_ktn"
      }
    },
    {
      "cell_type": "code",
      "source": [
        "# teacher"
      ],
      "metadata": {
        "id": "XpKHQfvp_hxQ"
      },
      "execution_count": null,
      "outputs": []
    },
    {
      "cell_type": "markdown",
      "source": [
        "Также мы можем проверить количество вхождений определенного значения в список с помощью метода .count()"
      ],
      "metadata": {
        "id": "hsrbZrv3CJjz"
      }
    },
    {
      "cell_type": "code",
      "source": [
        "# teacher"
      ],
      "metadata": {
        "id": "oPgzHqwtCOnM"
      },
      "execution_count": null,
      "outputs": []
    },
    {
      "cell_type": "markdown",
      "source": [
        ".pop() отдаст и уберет последний элемент из списка"
      ],
      "metadata": {
        "id": "fYq5SEVfEenV"
      }
    },
    {
      "cell_type": "code",
      "source": [
        "# teacher"
      ],
      "metadata": {
        "id": "A-RrVKQaEZwB"
      },
      "execution_count": null,
      "outputs": []
    },
    {
      "cell_type": "code",
      "source": [
        "# удаление первого вхождения значения\n",
        "my_list =[1,59,3,56,98,3]\n",
        "my_list.remove(3)\n",
        "my_list"
      ],
      "metadata": {
        "id": "Y8QA_khRbJZ6",
        "colab": {
          "base_uri": "https://localhost:8080/"
        },
        "outputId": "ac1ebb99-03db-447a-ff4f-5d050f176d55"
      },
      "execution_count": null,
      "outputs": [
        {
          "output_type": "execute_result",
          "data": {
            "text/plain": [
              "[1, 59, 56, 98, 3]"
            ]
          },
          "metadata": {},
          "execution_count": 4
        }
      ]
    },
    {
      "cell_type": "code",
      "source": [
        "my_list.remove(99)"
      ],
      "metadata": {
        "id": "19-KaZoscRZo",
        "colab": {
          "base_uri": "https://localhost:8080/",
          "height": 165
        },
        "outputId": "af53eb43-d416-4ed4-8977-d8f5d91e83d6"
      },
      "execution_count": null,
      "outputs": [
        {
          "output_type": "error",
          "ename": "ValueError",
          "evalue": "ignored",
          "traceback": [
            "\u001b[0;31m---------------------------------------------------------------------------\u001b[0m",
            "\u001b[0;31mValueError\u001b[0m                                Traceback (most recent call last)",
            "\u001b[0;32m<ipython-input-5-ca7322ca1198>\u001b[0m in \u001b[0;36m<module>\u001b[0;34m\u001b[0m\n\u001b[0;32m----> 1\u001b[0;31m \u001b[0mmy_list\u001b[0m\u001b[0;34m.\u001b[0m\u001b[0mremove\u001b[0m\u001b[0;34m(\u001b[0m\u001b[0;36m99\u001b[0m\u001b[0;34m)\u001b[0m\u001b[0;34m\u001b[0m\u001b[0;34m\u001b[0m\u001b[0m\n\u001b[0m",
            "\u001b[0;31mValueError\u001b[0m: list.remove(x): x not in list"
          ]
        }
      ]
    },
    {
      "cell_type": "code",
      "source": [
        "# удаление по индексу, лучше так даже\n",
        "my_list = [1,1,0,2,3,3,3,4]\n",
        "my_list.pop(2)\n",
        "my_list"
      ],
      "metadata": {
        "id": "hXxewPxOb2Pt",
        "colab": {
          "base_uri": "https://localhost:8080/"
        },
        "outputId": "7d02c3a1-d1ab-49db-ebbf-c6c5c28dc0b8"
      },
      "execution_count": null,
      "outputs": [
        {
          "output_type": "execute_result",
          "data": {
            "text/plain": [
              "[1, 1, 2, 3, 3, 3, 4]"
            ]
          },
          "metadata": {},
          "execution_count": 6
        }
      ]
    },
    {
      "cell_type": "markdown",
      "source": [
        "#### Слайсинг\n",
        "Позволяет быстро получать подмножества произвольного списка, что очень удобно и пригодится в дальнейшем при освоении numpy и pandas.\n",
        "\n",
        "Общий синтаксис: [от:до:шаг]. от включительно, а до не включительно. Если одна из границ не нужна, то можно просто опустить ее, и написать, например, [3:] (выведет все элементы с 3-его индекса и до конца)."
      ],
      "metadata": {
        "id": "u2IS6IECF8yS"
      }
    },
    {
      "cell_type": "code",
      "source": [
        "my_list = [1, 2, 3, 4, 5, 6, 7, 8, 9, 10]"
      ],
      "metadata": {
        "id": "blPxLtQKGh02"
      },
      "execution_count": null,
      "outputs": []
    },
    {
      "cell_type": "code",
      "source": [
        "my_list[:3] # от 0 индекса до 3 не включительно, то же самое [0:3], полная запись [0:3:1], по умолчанию шаг = 1\n",
        "# my_list[0:3:1]"
      ],
      "metadata": {
        "id": "SB9YhE-yxF5l",
        "colab": {
          "base_uri": "https://localhost:8080/"
        },
        "outputId": "cd45551b-809c-4044-f31d-d9b95a1bbdb0"
      },
      "execution_count": null,
      "outputs": [
        {
          "output_type": "execute_result",
          "data": {
            "text/plain": [
              "[1, 2, 3]"
            ]
          },
          "metadata": {},
          "execution_count": 8
        }
      ]
    },
    {
      "cell_type": "code",
      "source": [
        "my_list[2:] # от 2 индекса и до конца, \n",
        "# my_list[2:len(my_list):1]"
      ],
      "metadata": {
        "id": "6YNmh8IVxTwd",
        "colab": {
          "base_uri": "https://localhost:8080/"
        },
        "outputId": "b4aaa1b1-b644-44ff-a67a-645f50d66f3e"
      },
      "execution_count": null,
      "outputs": [
        {
          "output_type": "execute_result",
          "data": {
            "text/plain": [
              "[3, 4, 5, 6, 7, 8, 9, 10]"
            ]
          },
          "metadata": {},
          "execution_count": 9
        }
      ]
    },
    {
      "cell_type": "code",
      "source": [
        "my_list[3:5] # от 3 до 5 невключительно"
      ],
      "metadata": {
        "id": "xvh8qH0NxXQ-",
        "colab": {
          "base_uri": "https://localhost:8080/"
        },
        "outputId": "e17610c5-07b6-4ec8-b0a1-6b5bdba736be"
      },
      "execution_count": null,
      "outputs": [
        {
          "output_type": "execute_result",
          "data": {
            "text/plain": [
              "[4, 5]"
            ]
          },
          "metadata": {},
          "execution_count": 10
        }
      ]
    },
    {
      "cell_type": "code",
      "source": [
        "my_list[::2] # берем элементы через 1\n",
        "# my_list[0:len(my_list):2]"
      ],
      "metadata": {
        "id": "im8Ae4vaxbXn",
        "colab": {
          "base_uri": "https://localhost:8080/"
        },
        "outputId": "03bfd475-01c5-4c75-8783-86a91fa8f329"
      },
      "execution_count": null,
      "outputs": [
        {
          "output_type": "execute_result",
          "data": {
            "text/plain": [
              "[1, 3, 5, 7, 9]"
            ]
          },
          "metadata": {},
          "execution_count": 11
        }
      ]
    },
    {
      "cell_type": "code",
      "source": [
        "my_list[::5]"
      ],
      "metadata": {
        "id": "j6AVVYaqgAIA",
        "colab": {
          "base_uri": "https://localhost:8080/"
        },
        "outputId": "735440a2-d7be-47c5-d139-89165d00d2ad"
      },
      "execution_count": null,
      "outputs": [
        {
          "output_type": "execute_result",
          "data": {
            "text/plain": [
              "[1, 6]"
            ]
          },
          "metadata": {},
          "execution_count": 12
        }
      ]
    },
    {
      "cell_type": "code",
      "source": [
        "my_list[1:5:2]"
      ],
      "metadata": {
        "id": "Vj1AQuoqgDf5",
        "colab": {
          "base_uri": "https://localhost:8080/"
        },
        "outputId": "5154a60b-6e78-4f21-da85-fd3d304a83db"
      },
      "execution_count": null,
      "outputs": [
        {
          "output_type": "execute_result",
          "data": {
            "text/plain": [
              "[2, 4]"
            ]
          },
          "metadata": {},
          "execution_count": 13
        }
      ]
    },
    {
      "cell_type": "markdown",
      "source": [
        "#### Задача 3\n",
        "В данном списке, возьмите каждый третий элемент, начиная с элемента с индексом 4 и до индекса 15 (невключительно)."
      ],
      "metadata": {
        "id": "uoZGhcTkxgLL"
      }
    },
    {
      "cell_type": "code",
      "source": [
        "#                      x.       x.        x.          x.   \n",
        "#                      0  1  2. 3. 4  5   6.  7.  8   9.  10 \n",
        "#          0. 1. 2. 3  4. 5. 6. 7  8. 9.  10. 11. 12. 13. 14. 15. 16  17  18  19 \n",
        "my_list = [1, 2, 3, 4, 5, 6, 7, 8, 9, 10, 11, 12, 13, 14, 15, 16, 17, 18, 19, 20]\n",
        "# ваш код\n",
        "my_list[4:15:4]"
      ],
      "metadata": {
        "id": "BLqCE_HGzkcF",
        "colab": {
          "base_uri": "https://localhost:8080/"
        },
        "outputId": "d8ccbad8-7d20-4ddc-aef0-6c6fe7b20e02"
      },
      "execution_count": null,
      "outputs": [
        {
          "output_type": "execute_result",
          "data": {
            "text/plain": [
              "[5, 9, 13]"
            ]
          },
          "metadata": {},
          "execution_count": 14
        }
      ]
    },
    {
      "cell_type": "markdown",
      "source": [
        "Слайсинг с отрицательным шагом"
      ],
      "metadata": {
        "id": "isQIni2g2ghq"
      }
    },
    {
      "cell_type": "code",
      "source": [
        "my_list.reverse() # мутирует исходный объект\n",
        "my_list"
      ],
      "metadata": {
        "id": "UZDdfM9LiGfG",
        "colab": {
          "base_uri": "https://localhost:8080/"
        },
        "outputId": "f1dcfdd5-dc8f-46f5-dc9c-7cbea61f7993"
      },
      "execution_count": null,
      "outputs": [
        {
          "output_type": "execute_result",
          "data": {
            "text/plain": [
              "[20, 19, 18, 17, 16, 15, 14, 13, 12, 11, 10, 9, 8, 7, 6, 5, 4, 3, 2, 1]"
            ]
          },
          "metadata": {},
          "execution_count": 15
        }
      ]
    },
    {
      "cell_type": "code",
      "source": [
        "# tip! Можно использовать вместо .reverse() \n",
        "# Хотя на мой взгляд .reverse() выглядит читабельнее\n",
        "# срез просто презентует объект определенным образом, но при отображении не создает нового объекта\n",
        "# в отличие от .reverse(), который меняет исходный список\n",
        "my_list[::-1]"
      ],
      "metadata": {
        "id": "TUPRSXlB2Zae",
        "colab": {
          "base_uri": "https://localhost:8080/"
        },
        "outputId": "8c825cd4-34e7-47a3-d8c4-70a1d38375f6"
      },
      "execution_count": null,
      "outputs": [
        {
          "output_type": "execute_result",
          "data": {
            "text/plain": [
              "[1, 2, 3, 4, 5, 6, 7, 8, 9, 10, 11, 12, 13, 14, 15, 16, 17, 18, 19, 20]"
            ]
          },
          "metadata": {},
          "execution_count": 16
        }
      ]
    },
    {
      "cell_type": "code",
      "source": [
        "l = [1,2,3]\n",
        "print(l[::-1])\n",
        "l"
      ],
      "metadata": {
        "id": "S0AXYx7DjYM4",
        "colab": {
          "base_uri": "https://localhost:8080/"
        },
        "outputId": "0cdff8a9-3b04-4c3f-816a-f5f11232176e"
      },
      "execution_count": null,
      "outputs": [
        {
          "output_type": "stream",
          "name": "stdout",
          "text": [
            "[3, 2, 1]\n"
          ]
        },
        {
          "output_type": "execute_result",
          "data": {
            "text/plain": [
              "[1, 2, 3]"
            ]
          },
          "metadata": {},
          "execution_count": 17
        }
      ]
    },
    {
      "cell_type": "code",
      "source": [
        "l = [1,2,3]\n",
        "l.reverse()\n",
        "l"
      ],
      "metadata": {
        "id": "VaV5IeLSjdCc",
        "colab": {
          "base_uri": "https://localhost:8080/"
        },
        "outputId": "f8e13f2f-b4a9-4d4e-96e7-532d338910ef"
      },
      "execution_count": null,
      "outputs": [
        {
          "output_type": "execute_result",
          "data": {
            "text/plain": [
              "[3, 2, 1]"
            ]
          },
          "metadata": {},
          "execution_count": 18
        }
      ]
    },
    {
      "cell_type": "code",
      "source": [
        "my_list = [1, 2, 3, 4, 5, 6, 7, 8, 9, 10, 11, 12, 13, 14, 15, 16, 17, 18, 19, 20]\n",
        "my_list[5:10][::-1]"
      ],
      "metadata": {
        "id": "ZL0ukNYUiahr",
        "colab": {
          "base_uri": "https://localhost:8080/"
        },
        "outputId": "b4aa0153-e37e-41aa-f29c-65431c65031b"
      },
      "execution_count": null,
      "outputs": [
        {
          "output_type": "execute_result",
          "data": {
            "text/plain": [
              "[10, 9, 8, 7, 6]"
            ]
          },
          "metadata": {},
          "execution_count": 19
        }
      ]
    },
    {
      "cell_type": "code",
      "source": [
        "my_list[9:4:-1]"
      ],
      "metadata": {
        "id": "YEyFnrpcj59z",
        "colab": {
          "base_uri": "https://localhost:8080/"
        },
        "outputId": "656da6d7-00b8-4b93-8eea-ef7605b9d929"
      },
      "execution_count": null,
      "outputs": [
        {
          "output_type": "execute_result",
          "data": {
            "text/plain": [
              "[10, 9, 8, 7, 6]"
            ]
          },
          "metadata": {},
          "execution_count": 20
        }
      ]
    },
    {
      "cell_type": "code",
      "source": [
        "# в обратную сторону с шагом три\n",
        "my_list[::-3]"
      ],
      "metadata": {
        "id": "iXch-Ruj2eP1",
        "colab": {
          "base_uri": "https://localhost:8080/"
        },
        "outputId": "7b4c6997-4996-48db-8415-c7bc4b1e95c7"
      },
      "execution_count": null,
      "outputs": [
        {
          "output_type": "execute_result",
          "data": {
            "text/plain": [
              "[20, 17, 14, 11, 8, 5, 2]"
            ]
          },
          "metadata": {},
          "execution_count": 21
        }
      ]
    },
    {
      "cell_type": "markdown",
      "source": [
        "Тот же трюк, кстати, работает и со строками, поэтому решим небольшую задачу"
      ],
      "metadata": {
        "id": "VeGwNE0EGAla"
      }
    },
    {
      "cell_type": "markdown",
      "source": [
        "#### Задача 4\n",
        "Напишите проверку на то, является ли строка палиндромом. Палиндром — это слово или фраза, которые одинаково читаются слева направо и справа налево."
      ],
      "metadata": {
        "id": "3KxSjkPkGEue"
      }
    },
    {
      "cell_type": "code",
      "source": [
        "# ваш код тут\n",
        "a = input()\n",
        "if a == a[::-1]: print(\"Палиндром\")"
      ],
      "metadata": {
        "id": "gLZAZM0IGI8m",
        "colab": {
          "base_uri": "https://localhost:8080/"
        },
        "outputId": "233912b0-c4c6-4ea9-81cf-2549917e24a6"
      },
      "execution_count": null,
      "outputs": [
        {
          "output_type": "stream",
          "name": "stdout",
          "text": [
            "Палиндром\n"
          ]
        }
      ]
    },
    {
      "cell_type": "markdown",
      "source": [
        "### Кортежи\n",
        "Неизменямые списки"
      ],
      "metadata": {
        "id": "hPzZofdo-8yF"
      }
    },
    {
      "cell_type": "code",
      "source": [
        "my_tuple = (1,2,3)"
      ],
      "metadata": {
        "id": "qxQuNTQi-_k_"
      },
      "execution_count": null,
      "outputs": []
    },
    {
      "cell_type": "code",
      "source": [
        "my_tuple.append(1)"
      ],
      "metadata": {
        "id": "BJpnDwq7EsWs",
        "colab": {
          "base_uri": "https://localhost:8080/",
          "height": 165
        },
        "outputId": "d56b3f5f-ae30-46b0-efc3-3f8cc08ae942"
      },
      "execution_count": null,
      "outputs": [
        {
          "output_type": "error",
          "ename": "AttributeError",
          "evalue": "ignored",
          "traceback": [
            "\u001b[0;31m---------------------------------------------------------------------------\u001b[0m",
            "\u001b[0;31mAttributeError\u001b[0m                            Traceback (most recent call last)",
            "\u001b[0;32m<ipython-input-24-3821f70f7de3>\u001b[0m in \u001b[0;36m<module>\u001b[0;34m\u001b[0m\n\u001b[0;32m----> 1\u001b[0;31m \u001b[0mmy_tuple\u001b[0m\u001b[0;34m.\u001b[0m\u001b[0mappend\u001b[0m\u001b[0;34m(\u001b[0m\u001b[0;36m1\u001b[0m\u001b[0;34m)\u001b[0m\u001b[0;34m\u001b[0m\u001b[0;34m\u001b[0m\u001b[0m\n\u001b[0m",
            "\u001b[0;31mAttributeError\u001b[0m: 'tuple' object has no attribute 'append'"
          ]
        }
      ]
    },
    {
      "cell_type": "code",
      "source": [
        "my_tuple[2] = 3"
      ],
      "metadata": {
        "id": "y3pG7B0eEua-",
        "colab": {
          "base_uri": "https://localhost:8080/",
          "height": 165
        },
        "outputId": "e0f7224a-f615-4cb2-973a-e0dc30788d00"
      },
      "execution_count": null,
      "outputs": [
        {
          "output_type": "error",
          "ename": "TypeError",
          "evalue": "ignored",
          "traceback": [
            "\u001b[0;31m---------------------------------------------------------------------------\u001b[0m",
            "\u001b[0;31mTypeError\u001b[0m                                 Traceback (most recent call last)",
            "\u001b[0;32m<ipython-input-25-b49643ee8aba>\u001b[0m in \u001b[0;36m<module>\u001b[0;34m\u001b[0m\n\u001b[0;32m----> 1\u001b[0;31m \u001b[0mmy_tuple\u001b[0m\u001b[0;34m[\u001b[0m\u001b[0;36m2\u001b[0m\u001b[0;34m]\u001b[0m \u001b[0;34m=\u001b[0m \u001b[0;36m3\u001b[0m\u001b[0;34m\u001b[0m\u001b[0;34m\u001b[0m\u001b[0m\n\u001b[0m",
            "\u001b[0;31mTypeError\u001b[0m: 'tuple' object does not support item assignment"
          ]
        }
      ]
    },
    {
      "cell_type": "markdown",
      "source": [
        "Всегда можно перейти от кортежа к списку и наоборот"
      ],
      "metadata": {
        "id": "Fgr3IXjLEy_r"
      }
    },
    {
      "cell_type": "code",
      "source": [
        "list(my_tuple)"
      ],
      "metadata": {
        "id": "9xm1VN1BEwq_",
        "colab": {
          "base_uri": "https://localhost:8080/"
        },
        "outputId": "2778c5e7-66dc-41c9-df13-a74f8acf1ef0"
      },
      "execution_count": null,
      "outputs": [
        {
          "output_type": "execute_result",
          "data": {
            "text/plain": [
              "[1, 2, 3]"
            ]
          },
          "metadata": {},
          "execution_count": 26
        }
      ]
    },
    {
      "cell_type": "code",
      "source": [
        "my_list = [1,1,1]\n",
        "tuple(my_list)"
      ],
      "metadata": {
        "id": "g9H_vVBUE147",
        "colab": {
          "base_uri": "https://localhost:8080/"
        },
        "outputId": "3c7c9cc1-8bce-4723-c3b7-7d49f7cecbda"
      },
      "execution_count": null,
      "outputs": [
        {
          "output_type": "execute_result",
          "data": {
            "text/plain": [
              "(1, 1, 1)"
            ]
          },
          "metadata": {},
          "execution_count": 27
        }
      ]
    },
    {
      "cell_type": "markdown",
      "source": [
        "Слайсинг работает и с кортежами."
      ],
      "metadata": {
        "id": "jVZaeqDpGUIU"
      }
    },
    {
      "cell_type": "code",
      "source": [
        "my_tuple[1:]"
      ],
      "metadata": {
        "id": "wpldDDxxGSbj",
        "colab": {
          "base_uri": "https://localhost:8080/"
        },
        "outputId": "1e1c6b19-d247-46ed-acba-238f7c3a44fe"
      },
      "execution_count": null,
      "outputs": [
        {
          "output_type": "execute_result",
          "data": {
            "text/plain": [
              "(2, 3)"
            ]
          },
          "metadata": {},
          "execution_count": 28
        }
      ]
    },
    {
      "cell_type": "markdown",
      "metadata": {
        "id": "9hUCawsMk7Sp"
      },
      "source": [
        "### Словари\n",
        "Вместо целочисленных индексов у нас теперь есть пары ключ-значение. Каждый ключ должен иметь значение, и всегда можно посмотреть какое значение лежит по тому или иному ключу."
      ]
    },
    {
      "cell_type": "code",
      "source": [
        "# лирическое отступление.  Доко-во того, что строчки неизменяемы\n",
        "s = \"abc\"\n",
        "s[2]='d'"
      ],
      "metadata": {
        "id": "A1HzC5yYmYWl",
        "colab": {
          "base_uri": "https://localhost:8080/",
          "height": 200
        },
        "outputId": "9ca9100e-25e8-42b6-eed0-30876b72047f"
      },
      "execution_count": null,
      "outputs": [
        {
          "output_type": "error",
          "ename": "TypeError",
          "evalue": "ignored",
          "traceback": [
            "\u001b[0;31m---------------------------------------------------------------------------\u001b[0m",
            "\u001b[0;31mTypeError\u001b[0m                                 Traceback (most recent call last)",
            "\u001b[0;32m<ipython-input-29-d2f5345dc511>\u001b[0m in \u001b[0;36m<module>\u001b[0;34m\u001b[0m\n\u001b[1;32m      1\u001b[0m \u001b[0;31m# лирическое отступление.  Доко-во того, что строчки неизменяемы\u001b[0m\u001b[0;34m\u001b[0m\u001b[0;34m\u001b[0m\u001b[0;34m\u001b[0m\u001b[0m\n\u001b[1;32m      2\u001b[0m \u001b[0ms\u001b[0m \u001b[0;34m=\u001b[0m \u001b[0;34m\"abc\"\u001b[0m\u001b[0;34m\u001b[0m\u001b[0;34m\u001b[0m\u001b[0m\n\u001b[0;32m----> 3\u001b[0;31m \u001b[0ms\u001b[0m\u001b[0;34m[\u001b[0m\u001b[0;36m2\u001b[0m\u001b[0;34m]\u001b[0m\u001b[0;34m=\u001b[0m\u001b[0;34m'd'\u001b[0m\u001b[0;34m\u001b[0m\u001b[0;34m\u001b[0m\u001b[0m\n\u001b[0m",
            "\u001b[0;31mTypeError\u001b[0m: 'str' object does not support item assignment"
          ]
        }
      ]
    },
    {
      "cell_type": "code",
      "metadata": {
        "id": "hgnpV7QYk8GV",
        "colab": {
          "base_uri": "https://localhost:8080/"
        },
        "outputId": "ef76aac9-0fe7-455e-bb03-dd5032fd7497"
      },
      "source": [
        "d = {}\n",
        "type(d)"
      ],
      "execution_count": null,
      "outputs": [
        {
          "output_type": "execute_result",
          "data": {
            "text/plain": [
              "dict"
            ]
          },
          "metadata": {},
          "execution_count": 30
        }
      ]
    },
    {
      "cell_type": "code",
      "metadata": {
        "id": "fuIwp6bdlfWp",
        "colab": {
          "base_uri": "https://localhost:8080/"
        },
        "outputId": "33c2665c-7ef7-4172-af85-d2ff683c4c8c"
      },
      "source": [
        "d = dict()\n",
        "type(d)"
      ],
      "execution_count": null,
      "outputs": [
        {
          "output_type": "execute_result",
          "data": {
            "text/plain": [
              "dict"
            ]
          },
          "metadata": {},
          "execution_count": 31
        }
      ]
    },
    {
      "cell_type": "markdown",
      "source": [
        "Можно создать пустой или непустой словарь. А затем добавлять туда новые ключи простым присваиванием. Значения могут быть любого типа, независимо от уже введенных"
      ],
      "metadata": {
        "id": "IpoOS1XxFCb4"
      }
    },
    {
      "cell_type": "code",
      "source": [
        "# teacher"
      ],
      "metadata": {
        "id": "6H-NCYqCFMkQ"
      },
      "execution_count": null,
      "outputs": []
    },
    {
      "cell_type": "code",
      "source": [],
      "metadata": {
        "id": "OgYoqfganVow"
      },
      "execution_count": null,
      "outputs": []
    },
    {
      "cell_type": "markdown",
      "source": [
        "Если ключа в словаре нет, будет выдана ошибка"
      ],
      "metadata": {
        "id": "Lr_6CrdTFZ78"
      }
    },
    {
      "cell_type": "code",
      "metadata": {
        "id": "ROJi_nN3lthB"
      },
      "source": [
        "# teacher"
      ],
      "execution_count": null,
      "outputs": []
    },
    {
      "cell_type": "markdown",
      "source": [
        "Проверить наличие ключей в словаре можно также с помощью in"
      ],
      "metadata": {
        "id": "bdMRqroyF2jZ"
      }
    },
    {
      "cell_type": "code",
      "source": [
        "# teacher"
      ],
      "metadata": {
        "id": "YwWfoUCKF2ja"
      },
      "execution_count": null,
      "outputs": []
    },
    {
      "cell_type": "code",
      "source": [],
      "metadata": {
        "id": "5pGwsOeJnuQv"
      },
      "execution_count": null,
      "outputs": []
    },
    {
      "cell_type": "markdown",
      "metadata": {
        "id": "2TRprk9WlLk8"
      },
      "source": [
        "Чтобы посмотреть имеющиеся в словаре ключ, надо вызвать метод .keys(), а чтобы посмотреть значения существует метод .values()"
      ]
    },
    {
      "cell_type": "code",
      "metadata": {
        "id": "adPPzYOElSbh"
      },
      "source": [
        "# teacher"
      ],
      "execution_count": null,
      "outputs": []
    },
    {
      "cell_type": "code",
      "metadata": {
        "id": "zXTKeIUOl2ds"
      },
      "source": [
        "# teacher"
      ],
      "execution_count": null,
      "outputs": []
    },
    {
      "cell_type": "markdown",
      "source": [
        "Можно также дополнить или обновить значения в словаре с помощью .update().\n",
        "Удобен тем, что можно сразу несколько обновлений провести. Скажем, обновить значения исходного словаря значениями из нового словаря."
      ],
      "metadata": {
        "id": "dsx6euok5U1o"
      }
    },
    {
      "cell_type": "code",
      "source": [
        "# teacher"
      ],
      "metadata": {
        "id": "81platz75fqS"
      },
      "execution_count": null,
      "outputs": []
    },
    {
      "cell_type": "markdown",
      "source": [
        "Для доступа к отедльным ключам удобно пользоваться методом .get(). Он по умолчанию возвращает None, если ключа нет в словаре, но можно указать и свое значение по умолчанию"
      ],
      "metadata": {
        "id": "VqDmiDxw6FlX"
      }
    },
    {
      "cell_type": "code",
      "source": [
        "# teacher"
      ],
      "metadata": {
        "id": "JqfSerbA5JHt"
      },
      "execution_count": null,
      "outputs": []
    },
    {
      "cell_type": "code",
      "source": [
        "# teacher\n",
        "\n",
        "# по сути то же что\n",
        "if 'x' in d:\n",
        "  x = d['x']\n",
        "else:\n",
        "  x = 99"
      ],
      "metadata": {
        "id": "FhcnHIRP6Oil"
      },
      "execution_count": null,
      "outputs": []
    },
    {
      "cell_type": "markdown",
      "source": [
        "Обратим внимание, что нелюбые объекты могут быть ключами! Ими могут быть только hashable. В частности, все наши неизменяемые встроенные типы данных являются hashable. Рассмотрим пару примеров"
      ],
      "metadata": {
        "id": "RzCqDwL87FFg"
      }
    },
    {
      "cell_type": "code",
      "source": [
        "# все известные нам immutable типы могут быть ключами\n",
        "# teacher"
      ],
      "metadata": {
        "id": "1vsqdkgc7EbU"
      },
      "execution_count": null,
      "outputs": []
    },
    {
      "cell_type": "code",
      "source": [
        "# НО\n",
        "# teacher"
      ],
      "metadata": {
        "id": "cJd9py7V7kPP"
      },
      "execution_count": null,
      "outputs": []
    },
    {
      "cell_type": "markdown",
      "source": [
        "#### Задача 5\n",
        "Вспомним задачу 13 с предыдущего занятия. Ниже приведено одно из решений этой задачи (перевод из одной системы единиц в другую). Нужно упростить этот код, воспользовавшись словарями."
      ],
      "metadata": {
        "id": "O-UekTNVCN2P"
      }
    },
    {
      "cell_type": "code",
      "source": [
        "# 3 части\n",
        "\n",
        "# 1. ввод данных, проверка корерктности\n",
        "print(\"Введите первую величину в формате: <число> <приставка>\")\n",
        "s = input()\n",
        "print(\"Введите величину в которую вы хотите перевести первое число: <приставка>\")\n",
        "to = input()\n",
        "\n",
        "# что если было введено не число?\n",
        "# ввобще тогда float() выдаст ошибку и выполнение просто упадет,\n",
        "# пока что мы особо ничего с этим сделать не можем, но в дальнейшем узнаем и вспомним\n",
        "# про это\n",
        "number, remainder = s.split(\" \")\n",
        "number = float(number)\n",
        "\n",
        "\n",
        "# что если программа не знает такой величины? Надо как-то дать об этом понять пользователю\n",
        "\n",
        "# что если приставка была введена большими буквами?\n",
        "remainder = remainder.lower()\n",
        "to = to.lower()\n",
        "\n",
        "# 2. обработка входной величины в выходную\n",
        "# как это лучше сделать? Нужно ли нам писать правила для всех возможных пар?\n",
        "if remainder == \"м\":\n",
        "  pass\n",
        "elif remainder == \"км\":\n",
        "  number *= 1000\n",
        "elif remainder == \"см\":\n",
        "  number /= 100\n",
        "elif remainder == \"мм\":\n",
        "  number /= 1000\n",
        "else:\n",
        "  print(f\"Я не знаю о такой величине remainder: {remainder}!\")\n",
        "\n",
        "if to == \"м\":\n",
        "  pass\n",
        "elif to == \"км\":\n",
        "  number /= 1000\n",
        "elif to == \"см\":\n",
        "  number *= 100\n",
        "elif to == \"мм\":\n",
        "  number *= 1000\n",
        "else:\n",
        "  print(f\"Я не знаю о такой величине to: {to}!\")\n",
        "\n",
        "# 3. Вывод результата на экран\n",
        "print(f\"Получилось: {number} {to}\")"
      ],
      "metadata": {
        "id": "uFfW4FgeCg-B"
      },
      "execution_count": null,
      "outputs": []
    },
    {
      "cell_type": "code",
      "source": [
        "# ваш код тут\n",
        "print(\"Введите первую величину в формате: <число> <приставка>\")\n",
        "s = input()\n",
        "print(\"Введите величину в которую вы хотите перевести первое число: <приставка>\")\n",
        "to = input()\n",
        "number, remainder = s.split(\" \")\n",
        "number = float(number)\n",
        "remainder = remainder.lower()\n",
        "to = to.lower()\n",
        "\n",
        "dic = {\"м\": 1, \"км\": 1000, \"см\": 1/100, \"мм\": 1/1000}\n",
        "number = number * dic[remainder] / dic[to]\n",
        "\n",
        "print(f\"Получилось: {number} {to}\")\n"
      ],
      "metadata": {
        "id": "nt2INdSbC3kX",
        "colab": {
          "base_uri": "https://localhost:8080/"
        },
        "outputId": "e52d38ea-15a9-4de1-9364-85a2910991de"
      },
      "execution_count": null,
      "outputs": [
        {
          "output_type": "stream",
          "name": "stdout",
          "text": [
            "Введите первую величину в формате: <число> <приставка>\n",
            "100 км\n",
            "Введите величину в которую вы хотите перевести первое число: <приставка>\n",
            "км\n",
            "Получилось: 100.0 км\n"
          ]
        }
      ]
    },
    {
      "cell_type": "markdown",
      "source": [
        "### Множество\n",
        "Специальное хранилище, в котором содержатся уникальные элементы hashable типов. Здесь работает то же правило, что и с ключами. Все неизменяемые хранить можно."
      ],
      "metadata": {
        "id": "qlP-F8G08AZ_"
      }
    },
    {
      "cell_type": "code",
      "source": [
        "# teacher"
      ],
      "metadata": {
        "id": "jPCLUTR3u6Hk"
      },
      "execution_count": null,
      "outputs": []
    },
    {
      "cell_type": "code",
      "source": [
        "type({})"
      ],
      "metadata": {
        "id": "g_cPP7kXseXe"
      },
      "execution_count": null,
      "outputs": []
    },
    {
      "cell_type": "code",
      "source": [
        "type({1,2,3})"
      ],
      "metadata": {
        "id": "_Lb7GcVpsgO7"
      },
      "execution_count": null,
      "outputs": []
    },
    {
      "cell_type": "code",
      "source": [
        "my_set = set([-1, 1, 1, 2, 3, 4])\n",
        "my_set"
      ],
      "metadata": {
        "id": "Cz8TFq3qsjGx",
        "colab": {
          "base_uri": "https://localhost:8080/"
        },
        "outputId": "295b99b7-f35a-443b-9620-32fec1b0e19c"
      },
      "execution_count": null,
      "outputs": [
        {
          "output_type": "execute_result",
          "data": {
            "text/plain": [
              "{-1, 1, 2, 3, 4}"
            ]
          },
          "metadata": {},
          "execution_count": 38
        }
      ]
    },
    {
      "cell_type": "markdown",
      "source": [
        "Мощность множества (кол-во элементов в нем), можно привычно получить с помощью len"
      ],
      "metadata": {
        "id": "mT_XjdchGtTf"
      }
    },
    {
      "cell_type": "code",
      "source": [
        "len(my_set)"
      ],
      "metadata": {
        "id": "uSCvAp43Gs0b"
      },
      "execution_count": null,
      "outputs": []
    },
    {
      "cell_type": "markdown",
      "source": [
        "Добавление и удаление элементов"
      ],
      "metadata": {
        "id": "g3nUVe-b-fwb"
      }
    },
    {
      "cell_type": "markdown",
      "source": [
        ".add() добавление"
      ],
      "metadata": {
        "id": "QC0ijBlT-rxh"
      }
    },
    {
      "cell_type": "code",
      "source": [
        "# teacher"
      ],
      "metadata": {
        "id": "2HJqfxuq_gLe"
      },
      "execution_count": null,
      "outputs": []
    },
    {
      "cell_type": "code",
      "source": [],
      "metadata": {
        "id": "6xzCnnaesxOV"
      },
      "execution_count": null,
      "outputs": []
    },
    {
      "cell_type": "markdown",
      "source": [
        ".discard() удаление по значению (.remove() делает то же, но выдаст ошибку если элемента в множестве нет)"
      ],
      "metadata": {
        "id": "4KZCOlwz-s_8"
      }
    },
    {
      "cell_type": "code",
      "source": [
        "# teacher"
      ],
      "metadata": {
        "id": "2dmCorR9-kvB"
      },
      "execution_count": null,
      "outputs": []
    },
    {
      "cell_type": "markdown",
      "source": [
        ".pop() вернуть и убрать произвольный элемент из множества"
      ],
      "metadata": {
        "id": "6wi2_V1P-w2A"
      }
    },
    {
      "cell_type": "code",
      "source": [
        "# teacher"
      ],
      "metadata": {
        "id": "4UyqGbij-2H-"
      },
      "execution_count": null,
      "outputs": []
    },
    {
      "cell_type": "code",
      "source": [],
      "metadata": {
        "id": "G-zp2ZQNGqoq"
      },
      "execution_count": null,
      "outputs": []
    },
    {
      "cell_type": "markdown",
      "source": [
        "Элементы в множестве неупорядочены, зато проверка наличия элемента в множестве и словаре занимает меньше времени, чем в списке. Так что если вам нужно быстро проверять наличие какого-то элемента в коллекции, и при этом с элементами этой коллекции не ассоциированно никаких значений, стоит использовать set. \n",
        "\n",
        "Кроме того, нам доступны операции с несколькими множествами.\n",
        "\n",
        "![image019-4.png](data:image/png;base64,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)"
      ],
      "metadata": {
        "id": "n7Ffjis-_3eB"
      }
    },
    {
      "cell_type": "code",
      "source": [
        "my_set1 = set([1,2,4,5,39])\n",
        "my_set2 = set([6,4,2,98,3])"
      ],
      "metadata": {
        "id": "Be52N_Wp_aBu"
      },
      "execution_count": null,
      "outputs": []
    },
    {
      "cell_type": "markdown",
      "source": [
        "Пересечение множеств (есть и в множестве А и в множестве B)"
      ],
      "metadata": {
        "id": "bk8S1gOiBFbJ"
      }
    },
    {
      "cell_type": "code",
      "source": [
        "# teacher"
      ],
      "metadata": {
        "id": "RbjXgsudBEo6"
      },
      "execution_count": null,
      "outputs": []
    },
    {
      "cell_type": "markdown",
      "source": [
        "Объединение множеств. Элементы из обоих множетсв образуют новое множество."
      ],
      "metadata": {
        "id": "VO0E07ZWBOo6"
      }
    },
    {
      "cell_type": "code",
      "source": [
        "# teacher"
      ],
      "metadata": {
        "id": "1W1GpU0IBLPx"
      },
      "execution_count": null,
      "outputs": []
    },
    {
      "cell_type": "markdown",
      "source": [
        "Можно оставить только те элементы множества, которые есть только в одном из них"
      ],
      "metadata": {
        "id": "dqxJvEE7BUL5"
      }
    },
    {
      "cell_type": "code",
      "source": [
        "# teacher"
      ],
      "metadata": {
        "id": "jALGh7-8BY21"
      },
      "execution_count": null,
      "outputs": []
    },
    {
      "cell_type": "markdown",
      "source": [
        "Симметрическая разность. Только уникальные значения из множеств."
      ],
      "metadata": {
        "id": "8GRa49GsBlJv"
      }
    },
    {
      "cell_type": "code",
      "source": [
        "# teacher"
      ],
      "metadata": {
        "id": "MatfpHuzBfio"
      },
      "execution_count": null,
      "outputs": []
    },
    {
      "cell_type": "markdown",
      "source": [
        "#### Задача 6\n",
        "Дан простой текст. Определите сколько в тексте различных слов"
      ],
      "metadata": {
        "id": "vx2OxAOiHXvY"
      }
    },
    {
      "cell_type": "code",
      "source": [
        "# здесь есть пробелы, точки, запятые\n",
        "text = \"\"\"\n",
        "Lorem ipsum dolor sit amet, consectetur adipiscing elit, sed do eiusmod tempor incididunt ut labore et dolore magna aliqua. Scelerisque purus semper eget duis at tellus at. Sed vulputate mi sit amet. Morbi tristique senectus et netus et malesuada. Vitae purus faucibus ornare suspendisse sed nisi lacus. Id diam vel quam elementum pulvinar etiam. Et tortor at risus viverra adipiscing. Nibh sit amet commodo nulla facilisi nullam vehicula ipsum. Quis lectus nulla at volutpat diam. Arcu vitae elementum curabitur vitae nunc sed velit dignissim. Nunc sed id semper risus. Ut tellus elementum sagittis vitae et leo. Eget lorem dolor sed viverra ipsum. Vel elit scelerisque mauris pellentesque pulvinar pellentesque habitant morbi. Egestas sed tempus urna et pharetra pharetra.\n",
        "Sagittis aliquam malesuada bibendum arcu vitae elementum curabitur vitae. Facilisi nullam vehicula ipsum a arcu cursus. Porttitor leo a diam sollicitudin tempor id. Nulla facilisi cras fermentum odio. Egestas congue quisque egestas diam. Consectetur lorem donec massa sapien. Eget magna fermentum iaculis eu non diam phasellus. Mi sit amet mauris commodo quis. Sit amet tellus cras adipiscing. Vitae purus faucibus ornare suspendisse. Viverra tellus in hac habitasse platea dictumst vestibulum. Neque laoreet suspendisse interdum consectetur. Tristique et egestas quis ipsum suspendisse ultrices gravida dictum fusce. Pellentesque diam volutpat commodo sed egestas. Neque gravida in fermentum et sollicitudin ac. Et tortor consequat id porta nibh venenatis cras sed. A diam maecenas sed enim. Et malesuada fames ac turpis egestas sed. In mollis nunc sed id semper.\n",
        "Turpis massa tincidunt dui ut. Nulla facilisi nullam vehicula ipsum a arcu cursus vitae congue. Interdum velit euismod in pellentesque massa placerat duis ultricies lacus. Tortor vitae purus faucibus ornare suspendisse. Donec ac odio tempor orci dapibus. Et tortor at risus viverra. Lectus arcu bibendum at varius vel pharetra vel turpis. Platea dictumst quisque sagittis purus sit amet volutpat consequat mauris. Lectus mauris ultrices eros in cursus. Sit amet tellus cras adipiscing enim eu turpis. Pulvinar mattis nunc sed blandit libero volutpat. Scelerisque purus semper eget duis at tellus at. Interdum velit laoreet id donec ultrices tincidunt arcu non. Feugiat scelerisque varius morbi enim nunc. Libero justo laoreet sit amet. Eu facilisis sed odio morbi quis commodo odio aenean. Quisque id diam vel quam elementum pulvinar etiam non. At erat pellentesque adipiscing commodo elit at imperdiet dui accumsan. Id cursus metus aliquam eleifend mi.\n",
        "Enim nulla aliquet porttitor lacus luctus accumsan. Sed faucibus turpis in eu mi. Eget gravida cum sociis natoque penatibus et. At risus viverra adipiscing at in tellus integer feugiat scelerisque. Id cursus metus aliquam eleifend mi in nulla. Leo integer malesuada nunc vel risus commodo viverra. Scelerisque purus semper eget duis at tellus at urna condimentum. Eu ultrices vitae auctor eu augue ut lectus arcu. In mollis nunc sed id semper risus. Aliquam sem et tortor consequat id porta. Vestibulum sed arcu non odio euismod lacinia at quis. Non quam lacus suspendisse faucibus interdum. Eu turpis egestas pretium aenean pharetra magna ac placerat.\n",
        "Ante in nibh mauris cursus mattis molestie a iaculis at. Facilisi morbi tempus iaculis urna id. Sed pulvinar proin gravida hendrerit lectus. Quis commodo odio aenean sed adipiscing diam donec adipiscing tristique. Gravida in fermentum et sollicitudin ac. Imperdiet sed euismod nisi porta lorem. Aliquet sagittis id consectetur purus ut. Sem et tortor consequat id porta nibh venenatis cras. A iaculis at erat pellentesque adipiscing commodo. Lorem sed risus ultricies tristique nulla aliquet enim tortor at. Ultrices mi tempus imperdiet nulla malesuada. Praesent semper feugiat nibh sed pulvinar proin. Facilisi cras fermentum odio eu feugiat pretium nibh ipsum consequat. Proin nibh nisl condimentum id venenatis a condimentum vitae sapien. Mattis vulputate enim nulla aliquet porttitor lacus. Pulvinar mattis nunc sed blandit libero. Purus ut faucibus pulvinar elementum integer enim neque volutpat ac.\n",
        "Orci eu lobortis elementum nibh tellus molestie nunc non blandit. Enim praesent elementum facilisis leo vel fringilla est. Interdum velit euismod in pellentesque massa placerat. Lectus urna duis convallis convallis tellus id interdum velit laoreet. Pellentesque dignissim enim sit amet venenatis urna cursus. Faucibus vitae aliquet nec ullamcorper sit. Cursus metus aliquam eleifend mi in nulla posuere sollicitudin aliquam. Lacus viverra vitae congue eu consequat. Ut venenatis tellus in metus vulputate eu scelerisque. Tempor orci dapibus ultrices in iaculis. Nulla facilisi cras fermentum odio eu feugiat pretium. Duis convallis convallis tellus id interdum velit laoreet. Purus in mollis nunc sed id.\n",
        "Lorem ipsum dolor sit amet consectetur adipiscing elit pellentesque habitant. Eget velit aliquet sagittis id consectetur purus. Sagittis nisl rhoncus mattis rhoncus urna neque viverra justo. Convallis a cras semper auctor neque. Feugiat vivamus at augue eget arcu dictum varius duis at. Convallis a cras semper auctor neque vitae tempus. Est pellentesque elit ullamcorper dignissim cras tincidunt lobortis feugiat. Tortor pretium viverra suspendisse potenti nullam ac tortor vitae purus. Dictumst quisque sagittis purus sit amet volutpat consequat mauris. Enim blandit volutpat maecenas volutpat blandit. Porttitor leo a diam sollicitudin tempor id eu. Pellentesque sit amet porttitor eget dolor morbi non. Consectetur adipiscing elit duis tristique sollicitudin nibh sit. Non sodales neque sodales ut etiam. Pharetra massa massa ultricies mi quis. Justo donec enim diam vulputate ut pharetra sit amet. Sagittis orci a scelerisque purus semper eget duis at tellus.\n",
        "Amet risus nullam eget felis eget nunc lobortis mattis aliquam. Sit amet risus nullam eget felis eget nunc lobortis. Ullamcorper dignissim cras tincidunt lobortis. Vel orci porta non pulvinar neque laoreet suspendisse interdum. Fusce ut placerat orci nulla pellentesque. Curabitur gravida arcu ac tortor dignissim convallis aenean. Sed viverra ipsum nunc aliquet bibendum enim facilisis. Ut ornare lectus sit amet. Metus aliquam eleifend mi in. Sapien faucibus et molestie ac feugiat sed lectus vestibulum.\n",
        "Malesuada bibendum arcu vitae elementum curabitur vitae nunc. Odio eu feugiat pretium nibh ipsum consequat nisl vel. Massa eget egestas purus viverra. Ornare quam viverra orci sagittis eu volutpat odio facilisis. In arcu cursus euismod quis viverra. In metus vulputate eu scelerisque felis imperdiet proin fermentum leo. Vitae turpis massa sed elementum tempus. Semper feugiat nibh sed pulvinar proin gravida. Quis risus sed vulputate odio ut enim blandit. Quam nulla porttitor massa id neque aliquam vestibulum. Pretium aenean pharetra magna ac placerat. Eleifend quam adipiscing vitae proin sagittis nisl.\n",
        "Et malesuada fames ac turpis egestas integer. Ac tortor vitae purus faucibus ornare. Faucibus in ornare quam viverra orci sagittis eu volutpat odio. Consectetur purus ut faucibus pulvinar elementum integer enim. Neque convallis a cras semper auctor neque vitae. Scelerisque eu ultrices vitae auctor eu. Mauris commodo quis imperdiet massa tincidunt nunc pulvinar sapien et. Suspendisse faucibus interdum posuere lorem ipsum dolor sit. Nunc scelerisque viverra mauris in aliquam sem fringilla ut. Sed felis eget velit aliquet sagittis id consectetur. Odio euismod lacinia at quis risus sed vulputate odio. Id diam vel quam elementum pulvinar etiam. Aliquam sem fringilla ut morbi tincidunt augue interdum velit. Massa tincidunt nunc pulvinar sapien et ligula ullamcorper malesuada. Vivamus at augue eget arcu. Vel pharetra vel turpis nunc eget lorem dolor sed viverra. Id donec ultrices tincidunt arcu non sodales.\n",
        "\"\"\"\n",
        "# ваш код тут\n",
        "\n",
        "s= text.lower().split(\" \")\n",
        "for i in range(len(s)):\n",
        "  if (s[i][-1] == \",\") or (s[i][-1] == \".\"):\n",
        "      s[i] = s[i][-1]\n",
        "for i in s:\n",
        "  if (i == \",\") or (i == \".\"):\n",
        "    s.pop(s.index(i))\n",
        "set_text = set(s)\n",
        "len(set_text)\n"
      ],
      "metadata": {
        "id": "OW2tF-NTHfqV",
        "colab": {
          "base_uri": "https://localhost:8080/"
        },
        "outputId": "bfb3cd18-cf8c-4fcf-c68c-0c0cbb84cb95"
      },
      "execution_count": null,
      "outputs": [
        {
          "output_type": "execute_result",
          "data": {
            "text/plain": [
              "172"
            ]
          },
          "metadata": {},
          "execution_count": 74
        }
      ]
    },
    {
      "cell_type": "code",
      "source": [
        "set(text.split(' '))"
      ],
      "metadata": {
        "id": "yNX0-Aqxvkze"
      },
      "execution_count": null,
      "outputs": []
    },
    {
      "cell_type": "markdown",
      "metadata": {
        "id": "IGdIXSv1lTv8"
      },
      "source": [
        "## Управляющие конструкции\n",
        "В Python есть два вида циклов: for и while.\n",
        "\n",
        "цикл for обычно используется, когда у вас есть участок кода, который необходимо выполнить заданное число раз (n раз) или пока все элементы коллекции не будут обработаны.\n",
        "\n",
        "а цикл while также выполняет какой-то участок кода, но до тех пор, пока истинно (True) заданное условие."
      ]
    },
    {
      "cell_type": "markdown",
      "source": [
        "### Цикл while"
      ],
      "metadata": {
        "id": "mscPouWzKxu5"
      }
    },
    {
      "cell_type": "code",
      "source": [
        "# teacher"
      ],
      "metadata": {
        "id": "pEbEdaOoK-j9"
      },
      "execution_count": null,
      "outputs": []
    },
    {
      "cell_type": "markdown",
      "source": [
        "#### Задача 7\n",
        "Наполните множество уникальными квадратами введенных пользователем чисел. Наполнение прекращается в тот момент, когда пользователь вводит 0. В конце выведите полученное множество на экран"
      ],
      "metadata": {
        "id": "BKwmkNJwLH5v"
      }
    },
    {
      "cell_type": "code",
      "source": [
        "# ваш код тут\n",
        "m = set()\n",
        "s = input(\"Введите число\")\n",
        "while not(s == \"0\"):\n",
        "  m.add(float(s)**2)\n",
        "  s = input(\"Введите число\")\n",
        "print(m)\n"
      ],
      "metadata": {
        "id": "bbXwWynXLbKs",
        "colab": {
          "base_uri": "https://localhost:8080/"
        },
        "outputId": "1b40c483-b646-420f-ff84-0ca05a0c8758"
      },
      "execution_count": null,
      "outputs": [
        {
          "output_type": "stream",
          "name": "stdout",
          "text": [
            "Введите число5\n",
            "Введите число4\n",
            "Введите число0\n",
            "{16.0, 25.0}\n"
          ]
        }
      ]
    },
    {
      "cell_type": "markdown",
      "source": [
        "#### Задача 8\n",
        "Допустим вы положили в некий финансовый инструмент x у.е под y процентов годовых. Посчитайте через сколько лет сумма удвоится. Выведите как будет меняться сумма на счете год от году в списке и количество лет, которое это займет."
      ],
      "metadata": {
        "id": "ORhB3xQXM1s9"
      }
    },
    {
      "cell_type": "code",
      "source": [
        "# ваш код тут\n",
        "x = float(input(\"Введите сумму\"))\n",
        "y = float(input(\"Введите процент годовых\"))\n",
        "sx = x\n",
        "l = 0\n",
        "while sx < x*2:\n",
        "  l += 1\n",
        "  sx += sx*y/100\n",
        "  print(\"Сумма счета =\",sx, \"кол.лет =\", l )\n",
        "\n"
      ],
      "metadata": {
        "id": "UbVsqPgVNObm",
        "colab": {
          "base_uri": "https://localhost:8080/"
        },
        "outputId": "1f7c712d-d6b7-4c0b-9b63-ab584493bd6f"
      },
      "execution_count": null,
      "outputs": [
        {
          "output_type": "stream",
          "name": "stdout",
          "text": [
            "Введите сумму10\n",
            "Введите процент годовых20\n",
            "Сумма счета = 12.0 кол.лет = 1\n",
            "Сумма счета = 14.4 кол.лет = 2\n",
            "Сумма счета = 17.28 кол.лет = 3\n",
            "Сумма счета = 20.736 кол.лет = 4\n"
          ]
        }
      ]
    },
    {
      "cell_type": "markdown",
      "source": [
        "#### Задача 9\n",
        "Игра угадай число. При каждом запуске компьютер загадывает случайное целое число в диапазоне от 1 до 100. Напишите программу -- диалог, которая будет давать подсказки до тех пор пока число не угадано. В тот момент, когда число угадано, игра завершается.\n",
        "\n",
        "Пример.\n",
        "Пусть загадано число 34.\n",
        "\n",
        "* Программа просит ввести целое число.\n",
        "* Вводим 50\n",
        "* Программа говорит меньше\n",
        "* Вводим 25\n",
        "* Прграмма говорит больше\n",
        "* итд...\n",
        "\n",
        "* 34\n",
        "* Игра завершается"
      ],
      "metadata": {
        "id": "9zHLrUd2QTVr"
      }
    },
    {
      "cell_type": "code",
      "source": [
        "# целое число загадываем за вас\n",
        "import random\n",
        "x = random.randint(1, 100)\n",
        "\n",
        "# ваш код тут\n",
        "num = 0\n",
        "while x != num:\n",
        "  num = float(input(\"Введите число\"))\n",
        "  if x > num: print(\" Загаданное число больше \")\n",
        "  elif x < num: print(\" Загаданное число меньше \") \n",
        "  else: print(\"Вы угадали\")\n",
        "\n"
      ],
      "metadata": {
        "id": "mN82OtxBRLEJ",
        "colab": {
          "base_uri": "https://localhost:8080/"
        },
        "outputId": "26d43e89-9cb5-422a-abc9-71c9d498f103"
      },
      "execution_count": null,
      "outputs": [
        {
          "output_type": "stream",
          "name": "stdout",
          "text": [
            "Введите число50\n",
            " Загаданное число меньше \n",
            "Введите число25\n",
            " Загаданное число больше \n",
            "Введите число40\n",
            " Загаданное число больше \n",
            "Введите число45\n",
            " Загаданное число больше \n",
            "Введите число48\n",
            " Загаданное число больше \n",
            "Введите число49\n",
            "Вы угадали\n"
          ]
        }
      ]
    },
    {
      "cell_type": "markdown",
      "source": [
        "### Цикл for\n",
        "Рассмотрим базовый сценарий. Допустим нам нужно пройтись по какому-нибудь массиву"
      ],
      "metadata": {
        "id": "LHUxF81EK23f"
      }
    },
    {
      "cell_type": "code",
      "metadata": {
        "id": "E15ECUFVmSEh"
      },
      "source": [
        "# teacher\n",
        "# ... for\n",
        "\n",
        "print()\n",
        "print(\"while\")\n",
        "# сравните с while\n",
        "i = 0\n",
        "while i < len(my_list):\n",
        "  print(my_list[i])\n",
        "  i += 1"
      ],
      "execution_count": null,
      "outputs": []
    },
    {
      "cell_type": "markdown",
      "source": [
        "#### Задача 10\n",
        "Пусть дан список из N чисел. Возведите каждое число в этом списке в квадрат и выведите на экран."
      ],
      "metadata": {
        "id": "Y-_Va1TbZqpF"
      }
    },
    {
      "cell_type": "code",
      "source": [
        "my_list = [2,4,2,3,9,5,32]\n",
        "# ваш код тут\n",
        "for i in my_list:\n",
        "  print(i**2)"
      ],
      "metadata": {
        "id": "asCRy8C3Z11D",
        "colab": {
          "base_uri": "https://localhost:8080/"
        },
        "outputId": "44216ab9-9534-43cc-e175-115b476991a6"
      },
      "execution_count": null,
      "outputs": [
        {
          "output_type": "stream",
          "name": "stdout",
          "text": [
            "4\n",
            "16\n",
            "4\n",
            "9\n",
            "81\n",
            "25\n",
            "1024\n"
          ]
        }
      ]
    },
    {
      "cell_type": "markdown",
      "source": [
        "#### Задача 11\n",
        "На вход даны два списка. Выведите элемент первого списка, если его нет во втором списке"
      ],
      "metadata": {
        "id": "20PPrdFEeODG"
      }
    },
    {
      "cell_type": "code",
      "source": [
        "la = [1,2,3,4,5,77,21,23,54,20]\n",
        "lb = [3,4,5,2,77,82,32,34,20,100]\n",
        "# ваш код тут\n",
        "for i in la:\n",
        "  if not(i in lb): print(i)"
      ],
      "metadata": {
        "id": "W4EUSSLUePT3",
        "colab": {
          "base_uri": "https://localhost:8080/"
        },
        "outputId": "ad9e8b65-d0e2-4114-997f-a2b481a5a3e8"
      },
      "execution_count": null,
      "outputs": [
        {
          "output_type": "stream",
          "name": "stdout",
          "text": [
            "1\n",
            "21\n",
            "23\n",
            "54\n"
          ]
        }
      ]
    },
    {
      "cell_type": "markdown",
      "source": [
        "Итерироваться по элементом структуры можно в любой структуре"
      ],
      "metadata": {
        "id": "eHrI1Qr1VgKf"
      }
    },
    {
      "cell_type": "code",
      "source": [
        "my_set = set(my_list)\n",
        "my_dict = {\n",
        "    \"a\": 1,\n",
        "    \"b\": 2\n",
        "}\n",
        "my_tuple = (1,2,3)\n",
        "\n",
        "print(\"set\")\n",
        "for elem in my_set:\n",
        "  print(elem)\n",
        "\n",
        "print()\n",
        "print(\"dict\")\n",
        "for key in my_dict:\n",
        "  print(key)\n",
        "\n",
        "print()\n",
        "print(\"tuple\")\n",
        "for elem in my_tuple:\n",
        "  print(elem)"
      ],
      "metadata": {
        "id": "WbRVQ9DZVkwv"
      },
      "execution_count": null,
      "outputs": []
    },
    {
      "cell_type": "markdown",
      "source": [
        "Обратите внимание, что при итерации по словарю, нам выдаются ключи словаря. Чтобы сразу получать и ключи, и значения, можно воспользоваться методом .items() для словаря"
      ],
      "metadata": {
        "id": "CL_sc970Wizu"
      }
    },
    {
      "cell_type": "code",
      "source": [
        "# teacher"
      ],
      "metadata": {
        "id": "shN6TFwJV-VB"
      },
      "execution_count": null,
      "outputs": []
    },
    {
      "cell_type": "markdown",
      "source": [
        "Как так получается? Давайте посмотрим что возвращается my_dict.items()"
      ],
      "metadata": {
        "id": "SwcLG0E6Wtf9"
      }
    },
    {
      "cell_type": "code",
      "source": [
        "# teacher"
      ],
      "metadata": {
        "id": "TYMleC66WeLW"
      },
      "execution_count": null,
      "outputs": []
    },
    {
      "cell_type": "code",
      "source": [
        "# каждый раз на итерации цикла\n",
        "a,b = (1,2)"
      ],
      "metadata": {
        "id": "NVaY8d86iSz1"
      },
      "execution_count": null,
      "outputs": []
    },
    {
      "cell_type": "markdown",
      "source": [
        "В общем случае, если каждый элемент итерируемой структуры имеет в себе n объектов, записанных в списке или кортеже, мы можем указать в цикле for n переменных для обработки в теле цикла."
      ],
      "metadata": {
        "id": "uhQ1grTYW124"
      }
    },
    {
      "cell_type": "markdown",
      "source": [
        "#### Задача 12* (для ознакомления)\n",
        "Дан список из N кортежей размера 4. Напишите программу, которая будет объединять элементы кортежей по индексу в новые кортежи. Пример.\n",
        "\n",
        "\n",
        "```\n",
        "my_list = [\n",
        "           (1, 2, 3, 4),\n",
        "           (11, 22, 33, 44),\n",
        "           (111, 222, 333, 444),\n",
        "           (1111, 2222, 3333, 4444),\n",
        "           (11111, 22222, 33333, 44444)\n",
        "] -->\n",
        "[(1, 11, 111, 1111, 11111),\n",
        " (2, 22, 222, 2222, 22222),\n",
        " (3, 33, 333, 3333, 33333),\n",
        " (4, 44, 444, 4444, 44444)]\n",
        "```"
      ],
      "metadata": {
        "id": "eRVPYd8pXMn8"
      }
    },
    {
      "cell_type": "code",
      "source": [
        "my_list = [\n",
        "           (1, 2, 3, 4),\n",
        "           (11, 22, 33, 44),\n",
        "           (111, 222, 333, 444),\n",
        "           (1111, 2222, 3333, 4444),\n",
        "           (11111, 22222, 33333, 44444)\n",
        "]\n",
        "new_list = []\n",
        "# добаляем пустые списки на будущие места под заполнение значениями\n",
        "for i in range(len(my_list[0])):\n",
        "  new_list.append([])\n",
        "\n",
        "for a,b,c,d in my_list:\n",
        "  new_list[0].append(a)\n",
        "  new_list[1].append(b)\n",
        "  new_list[2].append(c)\n",
        "  new_list[3].append(d)\n",
        "\n",
        "# проверьте что будет в elem если написать \n",
        "print(\"Что будет если написать просто elem\")\n",
        "for elem in my_list:\n",
        "  print(elem)\n",
        "\n",
        "print()\n",
        "# приводим все внутренности к кортежам\n",
        "for i in range(len(new_list)):\n",
        "  new_list[i] = tuple(new_list[i])\n",
        "\n",
        "new_list"
      ],
      "metadata": {
        "id": "cLtp4ggqXFeu"
      },
      "execution_count": null,
      "outputs": []
    },
    {
      "cell_type": "code",
      "source": [
        "# p.s есть простое и короткое решение для этой задачи, но оно вне рамок нашего курса на данный момент\n",
        "# см. zip и *\n",
        "list(zip(*my_list))"
      ],
      "metadata": {
        "id": "IakC06xlZjdk"
      },
      "execution_count": null,
      "outputs": []
    },
    {
      "cell_type": "markdown",
      "source": [
        "Аналогично пользоваться индексами можно и в цикле for.\n",
        "Тут нам поможет специальная функция range -- она генерирует диапазон значений от a до b (не включительно) с шагом x"
      ],
      "metadata": {
        "id": "q__cAfvmUYvG"
      }
    },
    {
      "cell_type": "code",
      "source": [
        "# teacher"
      ],
      "metadata": {
        "id": "UOvcqNba3k6R"
      },
      "execution_count": null,
      "outputs": []
    },
    {
      "cell_type": "code",
      "source": [
        "list(range(10))"
      ],
      "metadata": {
        "id": "5388dn86jtfd"
      },
      "execution_count": null,
      "outputs": []
    },
    {
      "cell_type": "markdown",
      "source": [
        "Поэтому довольно часто можно увидеть что-то такое."
      ],
      "metadata": {
        "id": "PmcH-lcOUhP4"
      }
    },
    {
      "cell_type": "code",
      "source": [
        "# teacher"
      ],
      "metadata": {
        "id": "KZHr1oi4TlWb"
      },
      "execution_count": null,
      "outputs": []
    },
    {
      "cell_type": "markdown",
      "source": [
        "Так бывает удобнее, как минимум по двум причинам:\n",
        "1. Вам может понадобиться поменять значение в списке по индексу\n",
        "2. Вам может понадобиться доступ к соседним значениям (осторожнее с краями списка)"
      ],
      "metadata": {
        "id": "7APXsjBcU1V5"
      }
    },
    {
      "cell_type": "markdown",
      "source": [
        "#### Задача 13\n",
        "Пройдитесь в цикле for по данному списку. Если на четном индексе стоит нечетное число, то превратите его в четное вверх.\n",
        "\n",
        "Пример.\n",
        "\n",
        "\n",
        "```\n",
        "my_list = [1,2,3] --> [2, 2, 4]\n",
        "```\n",
        "\n"
      ],
      "metadata": {
        "id": "FfmFSa5ubQuG"
      }
    },
    {
      "cell_type": "code",
      "source": [
        "my_list = [1,2,3,55,2,3,443,23,12,332,454,66,55]\n",
        "\n",
        "# ваш код тут\n",
        "for i in range(len(my_list)):\n",
        "  if (i%2 == 0) and (my_list[i]%2 !=0):\n",
        "    my_list[i] += 1\n",
        "my_list\n",
        "    "
      ],
      "metadata": {
        "id": "nS6-BPi2bgGb",
        "colab": {
          "base_uri": "https://localhost:8080/"
        },
        "outputId": "c950590c-3dbd-4cf7-8b5b-676a9bc9aeb8"
      },
      "execution_count": null,
      "outputs": [
        {
          "output_type": "execute_result",
          "data": {
            "text/plain": [
              "[2, 2, 4, 55, 2, 3, 444, 23, 12, 332, 454, 66, 56]"
            ]
          },
          "metadata": {},
          "execution_count": 75
        }
      ]
    },
    {
      "cell_type": "markdown",
      "source": [
        "Как и с условными операторами, да в целом с любыми конструкциями, организующими код, допускается произвольная вложенность. То-есть мы можем использовать цикл в цикле, в цикле, в цикле..."
      ],
      "metadata": {
        "id": "5etuttRIlt2O"
      }
    },
    {
      "cell_type": "markdown",
      "source": [
        "#### Задача 14\n",
        "Выведите лестницу высоты N из чисел. На каждом шаге ступенька должна состоять из чисел от 1 до i, где i - номер текущей итерации внешнего цикла.\n",
        "\n",
        "Пример\n",
        "```\n",
        "10\n",
        "[1]\n",
        "[1, 2]\n",
        "[1, 2, 3]\n",
        "[1, 2, 3, 4]\n",
        "[1, 2, 3, 4, 5]\n",
        "[1, 2, 3, 4, 5, 6]\n",
        "[1, 2, 3, 4, 5, 6, 7]\n",
        "[1, 2, 3, 4, 5, 6, 7, 8]\n",
        "[1, 2, 3, 4, 5, 6, 7, 8, 9]\n",
        "[1, 2, 3, 4, 5, 6, 7, 8, 9, 10]\n",
        "```\n",
        "\n"
      ],
      "metadata": {
        "id": "a9yteo9Hknbb"
      }
    },
    {
      "cell_type": "code",
      "source": [
        "# ваш код тут\n",
        "n = int(input())\n",
        "s=[]\n",
        "for i in range(n):\n",
        "  s.append(i+1)\n",
        "  print(s)\n",
        "\n"
      ],
      "metadata": {
        "id": "K1mih6PelU0B",
        "colab": {
          "base_uri": "https://localhost:8080/"
        },
        "outputId": "2e987261-3846-4381-e7b5-8b285dd8f7ff"
      },
      "execution_count": null,
      "outputs": [
        {
          "output_type": "stream",
          "name": "stdout",
          "text": [
            "10\n",
            "[1]\n",
            "[1, 2]\n",
            "[1, 2, 3]\n",
            "[1, 2, 3, 4]\n",
            "[1, 2, 3, 4, 5]\n",
            "[1, 2, 3, 4, 5, 6]\n",
            "[1, 2, 3, 4, 5, 6, 7]\n",
            "[1, 2, 3, 4, 5, 6, 7, 8]\n",
            "[1, 2, 3, 4, 5, 6, 7, 8, 9]\n",
            "[1, 2, 3, 4, 5, 6, 7, 8, 9, 10]\n"
          ]
        }
      ]
    },
    {
      "cell_type": "markdown",
      "source": [
        "Разобрать решение пирамидки"
      ],
      "metadata": {
        "id": "B1oQP1q0HMHp"
      }
    },
    {
      "cell_type": "code",
      "source": [
        "# n = 3\n",
        "#  1\n",
        "# 121\n",
        "#12321\n",
        "\n",
        "n=9\n",
        "s = \"\"\n",
        "for i in range(1, n+1):\n",
        "  s = \"\".join([str(j) for j in range(1,i+1)])\n",
        "  s += s[:len(s)-1][::-1]\n",
        "  tab_size = n - i\n",
        "  tab = \" \" * tab_size\n",
        "  print(tab + s)"
      ],
      "metadata": {
        "id": "542dPRqtou0B"
      },
      "execution_count": null,
      "outputs": []
    },
    {
      "cell_type": "markdown",
      "source": [
        "#### Задача 15\n",
        "Простая реализация сортировки пузырьком. Реализуйте сортировку с помощью двух циклов for (один, вложен в другой) (например, по возрастанию).\n",
        "\n",
        "Описание алгоритма из вики.\n",
        "\n",
        "\n",
        "Алгоритм состоит из повторяющихся проходов по сортируемому массиву. За каждый проход элементы последовательно сравниваются попарно и, если порядок в паре неверный, выполняется перестановка элементов. Проходы по массиву повторяются \n",
        "N-1 раз или до тех пор, пока на очередном проходе не окажется, что обмены больше не нужны, что означает — массив отсортирован. При каждом проходе алгоритма по внутреннему циклу очередной наибольший элемент массива ставится на своё место в конце массива рядом с предыдущим «наибольшим элементом», а наименьший элемент перемещается на одну позицию к началу массива («всплывает» до нужной позиции, как пузырёк в воде — отсюда и название алгоритма).\n",
        "\n",
        "![YQAu0KFQyYZHmbNZ.png](data:image/png;base64,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)"
      ],
      "metadata": {
        "id": "idHjjwxbfRxC"
      }
    },
    {
      "cell_type": "code",
      "source": [
        "my_list = [1,2,4,5,2,10,11,9,2,3]\n",
        "\n",
        "# ваш код тут\n",
        "for i in range(len(my_list)-1):\n",
        "    for j in range(len(my_list)-1-i):\n",
        "        if my_list[j] > my_list[j+1]:\n",
        "            my_list[j+1],my_list[j] = my_list[j],my_list[j+1]\n",
        "my_list"
      ],
      "metadata": {
        "id": "c8F9Py83ezDR",
        "colab": {
          "base_uri": "https://localhost:8080/"
        },
        "outputId": "0d513787-7b07-4f9a-f8be-4de26f295abe"
      },
      "execution_count": null,
      "outputs": [
        {
          "output_type": "execute_result",
          "data": {
            "text/plain": [
              "[1, 2, 2, 2, 3, 4, 5, 9, 10, 11]"
            ]
          },
          "metadata": {},
          "execution_count": 79
        }
      ]
    },
    {
      "cell_type": "markdown",
      "source": [
        "**Важное замечание**. Нельзя менять размер структуры, пока вы итерируетесь по ней не по индексам."
      ],
      "metadata": {
        "id": "0vO8K0tVVOsb"
      }
    },
    {
      "cell_type": "code",
      "source": [
        "# для списка\n",
        "# teacher"
      ],
      "metadata": {
        "id": "MrFpae78ahO6"
      },
      "execution_count": null,
      "outputs": []
    },
    {
      "cell_type": "code",
      "source": [
        "# для словаря\n",
        "# teacher"
      ],
      "metadata": {
        "id": "DWGR2cMVarEg"
      },
      "execution_count": null,
      "outputs": []
    },
    {
      "cell_type": "code",
      "source": [
        "# для множества\n",
        "# teacher"
      ],
      "metadata": {
        "id": "ZU6kPtP1bCXA"
      },
      "execution_count": null,
      "outputs": []
    },
    {
      "cell_type": "markdown",
      "source": [
        "### break и continue\n",
        "* break -- прекращает цикл раньше положенного\n",
        "* continue -- заставляет интерпретатор переключиться на следующий шаг цикла\n",
        "\n",
        "Использование данных конструкций бывает удобным и полезным, но не злоупотребляйте, так как злоупотребление ими снижает читаемость кода."
      ],
      "metadata": {
        "id": "DMHXD6b_n5J-"
      }
    },
    {
      "cell_type": "code",
      "source": [
        "for i in range(5):\n",
        "  print(i)\n",
        "  if i == 2:\n",
        "    break\n",
        "\n",
        "print(\"Завершили цикл раньше по какому-то особому условию и управление перешло сюда\")"
      ],
      "metadata": {
        "id": "N8OM_XnXoZw1"
      },
      "execution_count": null,
      "outputs": []
    },
    {
      "cell_type": "code",
      "source": [
        "# обратите внимание, что строчка print(i**2) для i == 2 не выполняется\n",
        "for i in range(5):\n",
        "  if i == 2:\n",
        "    print(\"А i=2 нам не нравится\")\n",
        "    continue\n",
        "  print(i**2)"
      ],
      "metadata": {
        "id": "ijuFrYmVomke"
      },
      "execution_count": null,
      "outputs": []
    },
    {
      "cell_type": "markdown",
      "source": [
        "#### Задача 16\n",
        "Пусть пользователь бесконечно вводит числа до тех пор пока не введет 0. Проверяйте являются ли эти числа квадратами целых чисел, если нет, то возводите их в квадрат и добавляйте полученные квадраты в список, а если да, то сразу пишите их в список.\n",
        "\n",
        "Пример.\n",
        "\n",
        "\n",
        "```\n",
        "5\n",
        "Не квадрат целого числа, возводим в квадрат и добаляем\n",
        "16\n",
        "Добавляем\n",
        "4\n",
        "Добавляем\n",
        "3\n",
        "Не квадрат целого числа, возводим в квадрат и добавляем\n",
        "0\n",
        "[25.0, 16.0, 4.0, 9.0]\n",
        "```\n",
        "\n"
      ],
      "metadata": {
        "id": "08VqgEb9pPKk"
      }
    },
    {
      "cell_type": "code",
      "source": [
        "# ваш код тут\n",
        "sp=[]\n",
        "s = float(input())\n",
        "while s != 0:\n",
        "  if (s**(1/2))//10 > 0: sp.append(s**2)\n",
        "  else: sp.append(s)\n",
        "  s = float(input())\n",
        "print(sp)"
      ],
      "metadata": {
        "id": "PrGOzXLypx1r",
        "colab": {
          "base_uri": "https://localhost:8080/"
        },
        "outputId": "42f36c17-fd76-484f-d02a-4c206b98781a"
      },
      "execution_count": null,
      "outputs": [
        {
          "output_type": "stream",
          "name": "stdout",
          "text": [
            "5\n",
            "25\n",
            "2\n",
            "0\n",
            "[5.0, 25.0, 2.0]\n"
          ]
        }
      ]
    },
    {
      "cell_type": "markdown",
      "source": [
        "### И еще немного про списки и другое"
      ],
      "metadata": {
        "id": "FWZ6Jq3M4yVM"
      }
    },
    {
      "cell_type": "markdown",
      "source": [
        "Помните .split() для строчек? Есть обратная операция, которая позволяет собрать строку из списка"
      ],
      "metadata": {
        "id": "MuMkSQ-C3j_J"
      }
    },
    {
      "cell_type": "code",
      "source": [
        "my_list = [1,2,3]\n",
        "','.join(my_list) # только элементы списка должны предварительно быть переведены в строку"
      ],
      "metadata": {
        "id": "tIcIKJ2J3j_J"
      },
      "execution_count": null,
      "outputs": []
    },
    {
      "cell_type": "code",
      "source": [
        "my_list = [\"1\", \"2\", \"3\"]\n",
        "','.join(my_list)"
      ],
      "metadata": {
        "id": "JRgpdhsK3j_K"
      },
      "execution_count": null,
      "outputs": []
    },
    {
      "cell_type": "markdown",
      "source": [
        "Если при итерации по списку (или любой другой структуре) вам хочется сразу иметь переменную со значением и отдельно переменную с индексом (номером итерации с 0), то можно воспользоваться функцией enumerate() (\"пронумеровать\")."
      ],
      "metadata": {
        "id": "Tz9LuhF9qiQV"
      }
    },
    {
      "cell_type": "code",
      "source": [
        "my_list = [\"abc\", \"def\", \"xyz\"]\n",
        "\n",
        "for idx, value in enumerate(my_list):\n",
        "  print(idx, value)"
      ],
      "metadata": {
        "id": "Lz0s5WvpqqO4"
      },
      "execution_count": null,
      "outputs": []
    },
    {
      "cell_type": "markdown",
      "source": [
        "#### Генераторы списков\n",
        "В python есть возможность создавать структуры данных \"на ходу\". Получается очень лаконично. Суть -- прописать цикл for, например, внутри квадратных скобок (или фигурных)"
      ],
      "metadata": {
        "id": "Db8wl4yg41vc"
      }
    },
    {
      "cell_type": "code",
      "source": [
        "# создаем список из квадратов индексов\n",
        "my_list = [i**2 for i in range(10)]\n",
        "my_list"
      ],
      "metadata": {
        "id": "zxMQfp4U44s5"
      },
      "execution_count": null,
      "outputs": []
    },
    {
      "cell_type": "code",
      "source": [
        "# создаем список из квадратов индексов, если квадрат не превышает 30\n",
        "my_list = [i**2 for i in range(10) if i**2 < 30]\n",
        "my_list"
      ],
      "metadata": {
        "id": "lEDj6nVqr44l"
      },
      "execution_count": null,
      "outputs": []
    },
    {
      "cell_type": "code",
      "source": [
        "# создаем словарь в котором ключ -- число, а значение -- куб этого числа\n",
        "my_dict = {i: i**2 for i in range(10)}\n",
        "my_dict"
      ],
      "metadata": {
        "id": "RJXt8q74sBv6"
      },
      "execution_count": null,
      "outputs": []
    },
    {
      "cell_type": "code",
      "source": [
        "# аналогично с условием\n",
        "my_dict = {i: i**2 for i in range(10) if i**2 < 30}\n",
        "my_dict"
      ],
      "metadata": {
        "id": "VHJJSoFAsLBt"
      },
      "execution_count": null,
      "outputs": []
    },
    {
      "cell_type": "markdown",
      "source": [
        "Чуть подробнее про это тут\n",
        "* https://pythoner.name/list-comprehension\n",
        "* и тут (list comprehensions). https://realpython.com/list-comprehension-python/ (англ)"
      ],
      "metadata": {
        "id": "37Ahu9hesjwx"
      }
    },
    {
      "cell_type": "code",
      "source": [],
      "metadata": {
        "id": "rmKFxwL0sO8L"
      },
      "execution_count": null,
      "outputs": []
    }
  ]
}
